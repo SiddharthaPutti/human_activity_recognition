{
 "cells": [
  {
   "cell_type": "code",
   "execution_count": 9,
   "id": "06aefa7b",
   "metadata": {},
   "outputs": [],
   "source": [
    "import numpy as np\n",
    "import pandas as pd\n",
    "import itertools\n",
    "import matplotlib.pyplot as plt\n",
    "from sklearn.metrics import confusion_matrix\n",
    "from datetime import datetime\n",
    "\n",
    "from sklearn import linear_model\n",
    "from sklearn import metrics\n",
    "from sklearn.model_selection import train_test_split\n",
    "from sklearn.model_selection import GridSearchCV\n",
    "from sklearn.svm import LinearSVC\n",
    "from sklearn.svm import SVC\n",
    "from sklearn.tree import DecisionTreeClassifier\n",
    "from sklearn.ensemble import RandomForestClassifier\n",
    "from sklearn.ensemble import GradientBoostingClassifier"
   ]
  },
  {
   "cell_type": "code",
   "execution_count": 11,
   "id": "c19865db",
   "metadata": {},
   "outputs": [],
   "source": [
    "data = pd.read_csv('C:/Users/sid31/Downloads/UCI HAR Dataset/data.csv')"
   ]
  },
  {
   "cell_type": "code",
   "execution_count": 14,
   "id": "5fbcf728",
   "metadata": {},
   "outputs": [],
   "source": [
    "# Randomize order of rows in data frame.\n",
    "shuffled_index = np.random.permutation(data.index)\n",
    "rand_df = data.reindex(shuffled_index)\n",
    "\n",
    "# Divide number of rows in half and round.\n",
    "last_train_row = int(data.shape[0] * 0.7)\n",
    "\n",
    "# Select the first half and set as training set.\n",
    "# Select the second half and set as test set.\n",
    "train = rand_df.iloc[0:last_train_row]\n",
    "test= rand_df.iloc[last_train_row:]"
   ]
  },
  {
   "cell_type": "code",
   "execution_count": 15,
   "id": "d697330f",
   "metadata": {},
   "outputs": [
    {
     "data": {
      "text/plain": [
       "(5146, 563)"
      ]
     },
     "execution_count": 15,
     "metadata": {},
     "output_type": "execute_result"
    }
   ],
   "source": [
    "train.shape"
   ]
  },
  {
   "cell_type": "code",
   "execution_count": 17,
   "id": "efbef2b7",
   "metadata": {},
   "outputs": [
    {
     "data": {
      "text/html": [
       "<div>\n",
       "<style scoped>\n",
       "    .dataframe tbody tr th:only-of-type {\n",
       "        vertical-align: middle;\n",
       "    }\n",
       "\n",
       "    .dataframe tbody tr th {\n",
       "        vertical-align: top;\n",
       "    }\n",
       "\n",
       "    .dataframe thead th {\n",
       "        text-align: right;\n",
       "    }\n",
       "</style>\n",
       "<table border=\"1\" class=\"dataframe\">\n",
       "  <thead>\n",
       "    <tr style=\"text-align: right;\">\n",
       "      <th></th>\n",
       "      <th>tBodyAcc.mean...X</th>\n",
       "      <th>tBodyAcc.mean...Y</th>\n",
       "      <th>tBodyAcc.mean...Z</th>\n",
       "      <th>tBodyAcc.std...X</th>\n",
       "      <th>tBodyAcc.std...Y</th>\n",
       "      <th>tBodyAcc.std...Z</th>\n",
       "      <th>tBodyAcc.mad...X</th>\n",
       "      <th>tBodyAcc.mad...Y</th>\n",
       "      <th>tBodyAcc.mad...Z</th>\n",
       "      <th>tBodyAcc.max...X</th>\n",
       "      <th>...</th>\n",
       "      <th>fBodyBodyGyroJerkMag.kurtosis..</th>\n",
       "      <th>angle.tBodyAccMean.gravity.</th>\n",
       "      <th>angle.tBodyAccJerkMean..gravityMean.</th>\n",
       "      <th>angle.tBodyGyroMean.gravityMean.</th>\n",
       "      <th>angle.tBodyGyroJerkMean.gravityMean.</th>\n",
       "      <th>angle.X.gravityMean.</th>\n",
       "      <th>angle.Y.gravityMean.</th>\n",
       "      <th>angle.Z.gravityMean.</th>\n",
       "      <th>subject</th>\n",
       "      <th>Activity</th>\n",
       "    </tr>\n",
       "  </thead>\n",
       "  <tbody>\n",
       "    <tr>\n",
       "      <th>4193</th>\n",
       "      <td>0.268578</td>\n",
       "      <td>-0.021116</td>\n",
       "      <td>-0.124572</td>\n",
       "      <td>-0.990326</td>\n",
       "      <td>-0.974215</td>\n",
       "      <td>-0.957620</td>\n",
       "      <td>-0.991993</td>\n",
       "      <td>-0.975684</td>\n",
       "      <td>-0.956445</td>\n",
       "      <td>-0.940451</td>\n",
       "      <td>...</td>\n",
       "      <td>-0.910304</td>\n",
       "      <td>0.005479</td>\n",
       "      <td>-0.677574</td>\n",
       "      <td>-0.383913</td>\n",
       "      <td>-0.487703</td>\n",
       "      <td>-0.612846</td>\n",
       "      <td>0.323347</td>\n",
       "      <td>0.162976</td>\n",
       "      <td>21</td>\n",
       "      <td>STANDING</td>\n",
       "    </tr>\n",
       "    <tr>\n",
       "      <th>2834</th>\n",
       "      <td>0.383570</td>\n",
       "      <td>0.025769</td>\n",
       "      <td>-0.172968</td>\n",
       "      <td>0.304085</td>\n",
       "      <td>0.205996</td>\n",
       "      <td>-0.276731</td>\n",
       "      <td>0.245356</td>\n",
       "      <td>0.052723</td>\n",
       "      <td>-0.341187</td>\n",
       "      <td>0.530718</td>\n",
       "      <td>...</td>\n",
       "      <td>-0.823328</td>\n",
       "      <td>-0.297749</td>\n",
       "      <td>0.275102</td>\n",
       "      <td>0.949862</td>\n",
       "      <td>-0.618296</td>\n",
       "      <td>-0.848994</td>\n",
       "      <td>0.196522</td>\n",
       "      <td>-0.018631</td>\n",
       "      <td>15</td>\n",
       "      <td>WALKING_DOWNSTAIRS</td>\n",
       "    </tr>\n",
       "    <tr>\n",
       "      <th>4332</th>\n",
       "      <td>0.262955</td>\n",
       "      <td>0.010117</td>\n",
       "      <td>-0.031551</td>\n",
       "      <td>0.187343</td>\n",
       "      <td>0.199283</td>\n",
       "      <td>0.024492</td>\n",
       "      <td>0.145770</td>\n",
       "      <td>0.144106</td>\n",
       "      <td>-0.012666</td>\n",
       "      <td>0.532281</td>\n",
       "      <td>...</td>\n",
       "      <td>-0.400709</td>\n",
       "      <td>0.267329</td>\n",
       "      <td>-0.806729</td>\n",
       "      <td>0.525317</td>\n",
       "      <td>-0.547566</td>\n",
       "      <td>-0.633226</td>\n",
       "      <td>0.319721</td>\n",
       "      <td>0.141660</td>\n",
       "      <td>21</td>\n",
       "      <td>WALKING_DOWNSTAIRS</td>\n",
       "    </tr>\n",
       "    <tr>\n",
       "      <th>515</th>\n",
       "      <td>0.294070</td>\n",
       "      <td>-0.075006</td>\n",
       "      <td>-0.101012</td>\n",
       "      <td>-0.103585</td>\n",
       "      <td>0.184900</td>\n",
       "      <td>-0.385653</td>\n",
       "      <td>-0.121216</td>\n",
       "      <td>0.094563</td>\n",
       "      <td>-0.375842</td>\n",
       "      <td>-0.130437</td>\n",
       "      <td>...</td>\n",
       "      <td>-0.554810</td>\n",
       "      <td>-0.287997</td>\n",
       "      <td>0.805482</td>\n",
       "      <td>-0.558724</td>\n",
       "      <td>-0.908048</td>\n",
       "      <td>-0.604065</td>\n",
       "      <td>0.350650</td>\n",
       "      <td>0.122592</td>\n",
       "      <td>3</td>\n",
       "      <td>WALKING_UPSTAIRS</td>\n",
       "    </tr>\n",
       "    <tr>\n",
       "      <th>3012</th>\n",
       "      <td>0.364229</td>\n",
       "      <td>-0.018834</td>\n",
       "      <td>-0.187562</td>\n",
       "      <td>0.150627</td>\n",
       "      <td>-0.043979</td>\n",
       "      <td>0.029321</td>\n",
       "      <td>0.131523</td>\n",
       "      <td>-0.116836</td>\n",
       "      <td>0.018560</td>\n",
       "      <td>0.419559</td>\n",
       "      <td>...</td>\n",
       "      <td>-0.299023</td>\n",
       "      <td>-0.537418</td>\n",
       "      <td>0.805600</td>\n",
       "      <td>-0.028690</td>\n",
       "      <td>-0.827011</td>\n",
       "      <td>-0.678065</td>\n",
       "      <td>0.226987</td>\n",
       "      <td>0.205007</td>\n",
       "      <td>16</td>\n",
       "      <td>WALKING_DOWNSTAIRS</td>\n",
       "    </tr>\n",
       "  </tbody>\n",
       "</table>\n",
       "<p>5 rows × 563 columns</p>\n",
       "</div>"
      ],
      "text/plain": [
       "      tBodyAcc.mean...X  tBodyAcc.mean...Y  tBodyAcc.mean...Z  \\\n",
       "4193           0.268578          -0.021116          -0.124572   \n",
       "2834           0.383570           0.025769          -0.172968   \n",
       "4332           0.262955           0.010117          -0.031551   \n",
       "515            0.294070          -0.075006          -0.101012   \n",
       "3012           0.364229          -0.018834          -0.187562   \n",
       "\n",
       "      tBodyAcc.std...X  tBodyAcc.std...Y  tBodyAcc.std...Z  tBodyAcc.mad...X  \\\n",
       "4193         -0.990326         -0.974215         -0.957620         -0.991993   \n",
       "2834          0.304085          0.205996         -0.276731          0.245356   \n",
       "4332          0.187343          0.199283          0.024492          0.145770   \n",
       "515          -0.103585          0.184900         -0.385653         -0.121216   \n",
       "3012          0.150627         -0.043979          0.029321          0.131523   \n",
       "\n",
       "      tBodyAcc.mad...Y  tBodyAcc.mad...Z  tBodyAcc.max...X  ...  \\\n",
       "4193         -0.975684         -0.956445         -0.940451  ...   \n",
       "2834          0.052723         -0.341187          0.530718  ...   \n",
       "4332          0.144106         -0.012666          0.532281  ...   \n",
       "515           0.094563         -0.375842         -0.130437  ...   \n",
       "3012         -0.116836          0.018560          0.419559  ...   \n",
       "\n",
       "      fBodyBodyGyroJerkMag.kurtosis..  angle.tBodyAccMean.gravity.  \\\n",
       "4193                        -0.910304                     0.005479   \n",
       "2834                        -0.823328                    -0.297749   \n",
       "4332                        -0.400709                     0.267329   \n",
       "515                         -0.554810                    -0.287997   \n",
       "3012                        -0.299023                    -0.537418   \n",
       "\n",
       "      angle.tBodyAccJerkMean..gravityMean.  angle.tBodyGyroMean.gravityMean.  \\\n",
       "4193                             -0.677574                         -0.383913   \n",
       "2834                              0.275102                          0.949862   \n",
       "4332                             -0.806729                          0.525317   \n",
       "515                               0.805482                         -0.558724   \n",
       "3012                              0.805600                         -0.028690   \n",
       "\n",
       "      angle.tBodyGyroJerkMean.gravityMean.  angle.X.gravityMean.  \\\n",
       "4193                             -0.487703             -0.612846   \n",
       "2834                             -0.618296             -0.848994   \n",
       "4332                             -0.547566             -0.633226   \n",
       "515                              -0.908048             -0.604065   \n",
       "3012                             -0.827011             -0.678065   \n",
       "\n",
       "      angle.Y.gravityMean.  angle.Z.gravityMean.  subject            Activity  \n",
       "4193              0.323347              0.162976       21            STANDING  \n",
       "2834              0.196522             -0.018631       15  WALKING_DOWNSTAIRS  \n",
       "4332              0.319721              0.141660       21  WALKING_DOWNSTAIRS  \n",
       "515               0.350650              0.122592        3    WALKING_UPSTAIRS  \n",
       "3012              0.226987              0.205007       16  WALKING_DOWNSTAIRS  \n",
       "\n",
       "[5 rows x 563 columns]"
      ]
     },
     "execution_count": 17,
     "metadata": {},
     "output_type": "execute_result"
    }
   ],
   "source": [
    "train.head()"
   ]
  },
  {
   "cell_type": "code",
   "execution_count": 16,
   "id": "94555dd0",
   "metadata": {},
   "outputs": [
    {
     "data": {
      "text/plain": [
       "(2206, 563)"
      ]
     },
     "execution_count": 16,
     "metadata": {},
     "output_type": "execute_result"
    }
   ],
   "source": [
    "test.shape"
   ]
  },
  {
   "cell_type": "markdown",
   "id": "5f8b454e",
   "metadata": {},
   "source": [
    "Not normalising the data, the data itself is adjusted to scaling."
   ]
  },
  {
   "cell_type": "code",
   "execution_count": 20,
   "id": "d22a499e",
   "metadata": {},
   "outputs": [
    {
     "name": "stdout",
     "output_type": "stream",
     "text": [
      "X_train and y_train : ((5146, 561),(5146,))\n",
      "X_test  and y_test  : ((2206, 561),(2206,))\n"
     ]
    }
   ],
   "source": [
    "X_train = train.drop(['subject', 'Activity'], axis=1)\n",
    "y_train = train.Activity\n",
    "\n",
    "X_test = test.drop(['subject', 'Activity'], axis=1)\n",
    "y_test = test.Activity\n",
    "\n",
    "print('X_train and y_train : ({},{})'.format(X_train.shape, y_train.shape))\n",
    "print('X_test  and y_test  : ({},{})'.format(X_test.shape, y_test.shape))"
   ]
  },
  {
   "cell_type": "code",
   "execution_count": 21,
   "id": "a71f446b",
   "metadata": {},
   "outputs": [],
   "source": [
    "labels=['LAYING', 'SITTING','STANDING','WALKING','WALKING_DOWNSTAIRS','WALKING_UPSTAIRS']"
   ]
  },
  {
   "cell_type": "markdown",
   "id": "5e9ed508",
   "metadata": {},
   "source": [
    "# plot for confusion matrix"
   ]
  },
  {
   "cell_type": "code",
   "execution_count": 23,
   "id": "23c21737",
   "metadata": {},
   "outputs": [],
   "source": [
    "plt.rcParams[\"font.family\"] = 'DejaVu Sans'\n",
    "\n",
    "def plot_confusion_matrix(cm, classes,\n",
    "                          normalize=False,\n",
    "                          title='Confusion matrix',\n",
    "                          cmap=plt.cm.Blues):\n",
    "    if normalize:\n",
    "        cm = cm.astype('float') / cm.sum(axis=1)[:, np.newaxis]\n",
    "\n",
    "    plt.imshow(cm, interpolation='nearest', cmap=cmap)\n",
    "    plt.title(title)\n",
    "    plt.colorbar()\n",
    "    tick_marks = np.arange(len(classes))\n",
    "    plt.xticks(tick_marks, classes, rotation=90)\n",
    "    plt.yticks(tick_marks, classes)\n",
    "\n",
    "    fmt = '.2f' if normalize else 'd'\n",
    "    thresh = cm.max() / 2.\n",
    "    for i, j in itertools.product(range(cm.shape[0]), range(cm.shape[1])):\n",
    "        plt.text(j, i, format(cm[i, j], fmt),\n",
    "                 horizontalalignment=\"center\",\n",
    "                 color=\"white\" if cm[i, j] > thresh else \"black\")\n",
    "\n",
    "    plt.tight_layout()\n",
    "    plt.ylabel('True label')\n",
    "    plt.xlabel('Predicted label')"
   ]
  },
  {
   "cell_type": "code",
   "execution_count": 24,
   "id": "6b18b71c",
   "metadata": {},
   "outputs": [],
   "source": [
    "from datetime import datetime\n",
    "def perform_model(model, X_train, y_train, X_test, y_test, class_labels, cm_normalize=True, \\\n",
    "                 print_cm=True, cm_cmap=plt.cm.Greens):\n",
    "    \n",
    "    \n",
    "    # to store results at various phases\n",
    "    results = dict()\n",
    "    \n",
    "    # time at which model starts training \n",
    "    train_start_time = datetime.now()\n",
    "    print('training the model..')\n",
    "    model.fit(X_train, y_train)\n",
    "    print('Done....!\\n')\n",
    "    train_end_time = datetime.now()\n",
    "    results['training_time'] =  train_end_time - train_start_time\n",
    "    print('==> training time:- {}\\n'.format(results['training_time']))\n",
    "    \n",
    "    \n",
    "    # predict test data\n",
    "    print('Predicting test data')\n",
    "    test_start_time = datetime.now()\n",
    "    y_pred = model.predict(X_test)\n",
    "    test_end_time = datetime.now()\n",
    "    print('Done....!\\n')\n",
    "    results['testing_time'] = test_end_time - test_start_time\n",
    "    print('==> testing time:- {}\\n'.format(results['testing_time']))\n",
    "    results['predicted'] = y_pred\n",
    "   \n",
    "\n",
    "    # calculate overall accuracty of the model\n",
    "    accuracy = metrics.accuracy_score(y_true=y_test, y_pred=y_pred)\n",
    "    # store accuracy in results\n",
    "    results['accuracy'] = accuracy\n",
    "    print('==> Accuracy:- {}\\n'.format(accuracy))\n",
    "   \n",
    "    \n",
    "    \n",
    "    # confusion matrix\n",
    "    cm = metrics.confusion_matrix(y_test, y_pred)\n",
    "    results['confusion_matrix'] = cm\n",
    "    if print_cm: \n",
    "        print('\\n ********Confusion Matrix********')\n",
    "        print('\\n {}'.format(cm))\n",
    "        \n",
    "    # plot confusin matrix\n",
    "    plt.figure(figsize=(6,6))\n",
    "    plt.grid(b=False)\n",
    "    plot_confusion_matrix(cm, classes=class_labels, normalize=True, title='Normalized confusion matrix', cmap = cm_cmap)\n",
    "    plt.show()\n",
    "    \n",
    "    # get classification report\n",
    "    print('****************| Classifiction Report |****************')\n",
    "    classification_report = metrics.classification_report(y_test, y_pred)\n",
    "   \n",
    "    # store report in results\n",
    "    results['classification_report'] = classification_report\n",
    "    print(classification_report)\n",
    "    \n",
    "    # add the trained  model to the results\n",
    "    results['model'] = model\n",
    "    \n",
    "    return results"
   ]
  },
  {
   "cell_type": "code",
   "execution_count": 25,
   "id": "40342d48",
   "metadata": {},
   "outputs": [],
   "source": [
    "def print_grid_search_attributes(model):\n",
    "    # Estimator that gave highest score among all the estimators formed in GridSearch\n",
    "    print('\\n\\n==> Best Estimator:')\n",
    "    print('\\t{}\\n'.format(model.best_estimator_))\n",
    "\n",
    "\n",
    "    # parameters that gave best results while performing grid search\n",
    "    print('\\n==> Best parameters:')\n",
    "    print('\\tParameters of best estimator : {}'.format(model.best_params_))\n",
    "\n",
    "\n",
    "    #  number of cross validation splits\n",
    "    print('\\n==> No. of CrossValidation sets:')\n",
    "    print('\\tTotal numbre of cross validation sets: {}'.format(model.n_splits_))\n",
    "\n",
    "\n",
    "    # Average cross validated score of the best estimator, from the Grid Search \n",
    "    print('\\n==> Best Score:')\n",
    "    print('\\tAverage Cross Validate scores of best estimator : {}'.format(model.best_score_))\n",
    "\n",
    "    "
   ]
  },
  {
   "cell_type": "markdown",
   "id": "37f71838",
   "metadata": {},
   "source": [
    "# Logistic Regression"
   ]
  },
  {
   "cell_type": "code",
   "execution_count": 26,
   "id": "1d681f14",
   "metadata": {},
   "outputs": [
    {
     "name": "stdout",
     "output_type": "stream",
     "text": [
      "training the model..\n",
      "Fitting 3 folds for each of 12 candidates, totalling 36 fits\n",
      "Done....!\n",
      "\n",
      "==> training time:- 0:00:08.348168\n",
      "\n",
      "Predicting test data\n",
      "Done....!\n",
      "\n",
      "==> testing time:- 0:00:00.006999\n",
      "\n",
      "==> Accuracy:- 0.9841341795104261\n",
      "\n",
      "\n",
      " ********Confusion Matrix********\n",
      "\n",
      " [[430   0   0   0   0   0]\n",
      " [  0 380   9   0   0   0]\n",
      " [  0  15 386   0   0   0]\n",
      " [  0   0   0 353   1   1]\n",
      " [  0   0   0   2 312   1]\n",
      " [  0   0   0   6   0 310]]\n"
     ]
    },
    {
     "data": {
      "image/png": "[encoded data removed]",
      "text/plain": [
       "<Figure size 432x432 with 2 Axes>"
      ]
     },
     "metadata": {
      "needs_background": "light"
     },
     "output_type": "display_data"
    },
    {
     "name": "stdout",
     "output_type": "stream",
     "text": [
      "****************| Classifiction Report |****************\n",
      "                    precision    recall  f1-score   support\n",
      "\n",
      "            LAYING       1.00      1.00      1.00       430\n",
      "           SITTING       0.96      0.98      0.97       389\n",
      "          STANDING       0.98      0.96      0.97       401\n",
      "           WALKING       0.98      0.99      0.99       355\n",
      "WALKING_DOWNSTAIRS       1.00      0.99      0.99       315\n",
      "  WALKING_UPSTAIRS       0.99      0.98      0.99       316\n",
      "\n",
      "          accuracy                           0.98      2206\n",
      "         macro avg       0.98      0.98      0.98      2206\n",
      "      weighted avg       0.98      0.98      0.98      2206\n",
      "\n",
      "\n",
      "\n",
      "==> Best Estimator:\n",
      "\tLogisticRegression(C=10)\n",
      "\n",
      "\n",
      "==> Best parameters:\n",
      "\tParameters of best estimator : {'C': 10, 'penalty': 'l2'}\n",
      "\n",
      "==> No. of CrossValidation sets:\n",
      "\tTotal numbre of cross validation sets: 3\n",
      "\n",
      "==> Best Score:\n",
      "\tAverage Cross Validate scores of best estimator : 0.9780414596741128\n"
     ]
    }
   ],
   "source": [
    "import warnings\n",
    "from sklearn.exceptions import ConvergenceWarning\n",
    "warnings.filterwarnings(\"ignore\")\n",
    "warnings.simplefilter(action='ignore', category=ConvergenceWarning)\n",
    "\n",
    "# start Grid search\n",
    "parameters = {'C':[0.01, 0.1, 1, 10, 20, 30], 'penalty':['l2','l1']}\n",
    "log_reg = linear_model.LogisticRegression()\n",
    "log_reg_grid = GridSearchCV(log_reg, param_grid=parameters, cv=3, verbose=1, n_jobs=-1)\n",
    "log_reg_grid_results =  perform_model(log_reg_grid, X_train, y_train, X_test, y_test, class_labels=labels)\n",
    "\n",
    "# observe the attributes of the model \n",
    "print_grid_search_attributes(log_reg_grid_results['model'])"
   ]
  },
  {
   "cell_type": "markdown",
   "id": "1b839a3f",
   "metadata": {},
   "source": [
    "# Linear Support Vectore Classifier"
   ]
  },
  {
   "cell_type": "code",
   "execution_count": 27,
   "id": "837b2b7f",
   "metadata": {},
   "outputs": [
    {
     "name": "stdout",
     "output_type": "stream",
     "text": [
      "training the model..\n",
      "Fitting 5 folds for each of 6 candidates, totalling 30 fits\n",
      "Done....!\n",
      "\n",
      "==> training time:- 0:00:16.606582\n",
      "\n",
      "Predicting test data\n",
      "Done....!\n",
      "\n",
      "==> testing time:- 0:00:00.005839\n",
      "\n",
      "==> Accuracy:- 0.9873073436083409\n",
      "\n",
      "\n",
      " ********Confusion Matrix********\n",
      "\n",
      " [[430   0   0   0   0   0]\n",
      " [  1 379   9   0   0   0]\n",
      " [  0  17 384   0   0   0]\n",
      " [  0   0   0 355   0   0]\n",
      " [  0   0   0   0 315   0]\n",
      " [  0   0   0   1   0 315]]\n"
     ]
    },
    {
     "data": {
      "image/png": "[encoded data removed]",
      "text/plain": [
       "<Figure size 432x432 with 2 Axes>"
      ]
     },
     "metadata": {
      "needs_background": "light"
     },
     "output_type": "display_data"
    },
    {
     "name": "stdout",
     "output_type": "stream",
     "text": [
      "****************| Classifiction Report |****************\n",
      "                    precision    recall  f1-score   support\n",
      "\n",
      "            LAYING       1.00      1.00      1.00       430\n",
      "           SITTING       0.96      0.97      0.97       389\n",
      "          STANDING       0.98      0.96      0.97       401\n",
      "           WALKING       1.00      1.00      1.00       355\n",
      "WALKING_DOWNSTAIRS       1.00      1.00      1.00       315\n",
      "  WALKING_UPSTAIRS       1.00      1.00      1.00       316\n",
      "\n",
      "          accuracy                           0.99      2206\n",
      "         macro avg       0.99      0.99      0.99      2206\n",
      "      weighted avg       0.99      0.99      0.99      2206\n",
      "\n",
      "\n",
      "\n",
      "==> Best Estimator:\n",
      "\tLinearSVC(C=0.5, tol=5e-05)\n",
      "\n",
      "\n",
      "==> Best parameters:\n",
      "\tParameters of best estimator : {'C': 0.5}\n",
      "\n",
      "==> No. of CrossValidation sets:\n",
      "\tTotal numbre of cross validation sets: 5\n",
      "\n",
      "==> Best Score:\n",
      "\tAverage Cross Validate scores of best estimator : 0.9836759225187995\n"
     ]
    }
   ],
   "source": [
    "parameters = {'C':[0.125, 0.5, 1, 2, 8, 16]}\n",
    "lr_svc = LinearSVC(tol=0.00005)\n",
    "lr_svc_grid = GridSearchCV(lr_svc, param_grid=parameters, n_jobs=-1, verbose=1)\n",
    "lr_svc_grid_results = perform_model(lr_svc_grid, X_train, y_train, X_test, y_test, class_labels=labels)\n",
    "\n",
    "# observe the attributes of the model \n",
    "print_grid_search_attributes(lr_svc_grid_results['model'])"
   ]
  },
  {
   "cell_type": "markdown",
   "id": "b0656a5c",
   "metadata": {},
   "source": [
    "# Radial Basis Function - SVM"
   ]
  },
  {
   "cell_type": "code",
   "execution_count": 28,
   "id": "22a6f9b1",
   "metadata": {},
   "outputs": [
    {
     "name": "stdout",
     "output_type": "stream",
     "text": [
      "training the model..\n",
      "Done....!\n",
      "\n",
      "==> training time:- 0:01:45.540340\n",
      "\n",
      "Predicting test data\n",
      "Done....!\n",
      "\n",
      "==> testing time:- 0:00:00.654559\n",
      "\n",
      "==> Accuracy:- 0.9932003626473255\n",
      "\n",
      "\n",
      " ********Confusion Matrix********\n",
      "\n",
      " [[430   0   0   0   0   0]\n",
      " [  0 382   7   0   0   0]\n",
      " [  0   8 393   0   0   0]\n",
      " [  0   0   0 355   0   0]\n",
      " [  0   0   0   0 315   0]\n",
      " [  0   0   0   0   0 316]]\n"
     ]
    },
    {
     "data": {
      "image/png": "[encoded data removed]",
      "text/plain": [
       "<Figure size 432x432 with 2 Axes>"
      ]
     },
     "metadata": {
      "needs_background": "light"
     },
     "output_type": "display_data"
    },
    {
     "name": "stdout",
     "output_type": "stream",
     "text": [
      "****************| Classifiction Report |****************\n",
      "                    precision    recall  f1-score   support\n",
      "\n",
      "            LAYING       1.00      1.00      1.00       430\n",
      "           SITTING       0.98      0.98      0.98       389\n",
      "          STANDING       0.98      0.98      0.98       401\n",
      "           WALKING       1.00      1.00      1.00       355\n",
      "WALKING_DOWNSTAIRS       1.00      1.00      1.00       315\n",
      "  WALKING_UPSTAIRS       1.00      1.00      1.00       316\n",
      "\n",
      "          accuracy                           0.99      2206\n",
      "         macro avg       0.99      0.99      0.99      2206\n",
      "      weighted avg       0.99      0.99      0.99      2206\n",
      "\n",
      "\n",
      "\n",
      "==> Best Estimator:\n",
      "\tSVC(C=16, gamma=0.0078125)\n",
      "\n",
      "\n",
      "==> Best parameters:\n",
      "\tParameters of best estimator : {'C': 16, 'gamma': 0.0078125}\n",
      "\n",
      "==> No. of CrossValidation sets:\n",
      "\tTotal numbre of cross validation sets: 5\n",
      "\n",
      "==> Best Score:\n",
      "\tAverage Cross Validate scores of best estimator : 0.9858142979799409\n"
     ]
    }
   ],
   "source": [
    "parameters = {'C':[2,8,16],\\\n",
    "              'gamma': [ 0.0078125, 0.125, 2]}\n",
    "rbf_svm = SVC(kernel='rbf')\n",
    "rbf_svm_grid = GridSearchCV(rbf_svm,param_grid=parameters, n_jobs=-1)\n",
    "rbf_svm_grid_results = perform_model(rbf_svm_grid, X_train, y_train, X_test, y_test, class_labels=labels)\n",
    "\n",
    "# observe the attributes of the model \n",
    "print_grid_search_attributes(rbf_svm_grid_results['model'])"
   ]
  },
  {
   "cell_type": "markdown",
   "id": "47364e8b",
   "metadata": {},
   "source": [
    "# Decision Tree Classifier"
   ]
  },
  {
   "cell_type": "code",
   "execution_count": 29,
   "id": "cf05291a",
   "metadata": {},
   "outputs": [
    {
     "name": "stdout",
     "output_type": "stream",
     "text": [
      "training the model..\n",
      "Done....!\n",
      "\n",
      "==> training time:- 0:00:03.701225\n",
      "\n",
      "Predicting test data\n",
      "Done....!\n",
      "\n",
      "==> testing time:- 0:00:00.005001\n",
      "\n",
      "==> Accuracy:- 0.9356300997280145\n",
      "\n",
      "\n",
      " ********Confusion Matrix********\n",
      "\n",
      " [[430   0   0   0   0   0]\n",
      " [  0 365  24   0   0   0]\n",
      " [  0  54 347   0   0   0]\n",
      " [  0   0   0 330  11  14]\n",
      " [  0   0   0   4 300  11]\n",
      " [  0   1   1  10  12 292]]\n"
     ]
    },
    {
     "data": {
      "image/png": "[encoded data removed]",
      "text/plain": [
       "<Figure size 432x432 with 2 Axes>"
      ]
     },
     "metadata": {
      "needs_background": "light"
     },
     "output_type": "display_data"
    },
    {
     "name": "stdout",
     "output_type": "stream",
     "text": [
      "****************| Classifiction Report |****************\n",
      "                    precision    recall  f1-score   support\n",
      "\n",
      "            LAYING       1.00      1.00      1.00       430\n",
      "           SITTING       0.87      0.94      0.90       389\n",
      "          STANDING       0.93      0.87      0.90       401\n",
      "           WALKING       0.96      0.93      0.94       355\n",
      "WALKING_DOWNSTAIRS       0.93      0.95      0.94       315\n",
      "  WALKING_UPSTAIRS       0.92      0.92      0.92       316\n",
      "\n",
      "          accuracy                           0.94      2206\n",
      "         macro avg       0.94      0.93      0.93      2206\n",
      "      weighted avg       0.94      0.94      0.94      2206\n",
      "\n",
      "\n",
      "\n",
      "==> Best Estimator:\n",
      "\tDecisionTreeClassifier(max_depth=9)\n",
      "\n",
      "\n",
      "==> Best parameters:\n",
      "\tParameters of best estimator : {'max_depth': 9}\n",
      "\n",
      "==> No. of CrossValidation sets:\n",
      "\tTotal numbre of cross validation sets: 5\n",
      "\n",
      "==> Best Score:\n",
      "\tAverage Cross Validate scores of best estimator : 0.9315987809825733\n"
     ]
    }
   ],
   "source": [
    "parameters = {'max_depth':np.arange(3,10,2)}\n",
    "dt = DecisionTreeClassifier()\n",
    "dt_grid = GridSearchCV(dt,param_grid=parameters, n_jobs=-1)\n",
    "dt_grid_results = perform_model(dt_grid, X_train, y_train, X_test, y_test, class_labels=labels)\n",
    "\n",
    "# observe the attributes of the model \n",
    "print_grid_search_attributes(dt_grid_results['model'])"
   ]
  },
  {
   "cell_type": "markdown",
   "id": "b64812e4",
   "metadata": {},
   "source": [
    "# Random Forest Classifier"
   ]
  },
  {
   "cell_type": "code",
   "execution_count": 30,
   "id": "1a26ec68",
   "metadata": {},
   "outputs": [
    {
     "name": "stdout",
     "output_type": "stream",
     "text": [
      "training the model..\n",
      "Done....!\n",
      "\n",
      "==> training time:- 0:01:46.077159\n",
      "\n",
      "Predicting test data\n",
      "Done....!\n",
      "\n",
      "==> testing time:- 0:00:00.043998\n",
      "\n",
      "==> Accuracy:- 0.9809610154125114\n",
      "\n",
      "\n",
      " ********Confusion Matrix********\n",
      "\n",
      " [[430   0   0   0   0   0]\n",
      " [  0 371  18   0   0   0]\n",
      " [  0  10 391   0   0   0]\n",
      " [  0   0   0 349   3   3]\n",
      " [  0   0   0   3 309   3]\n",
      " [  0   0   0   0   2 314]]\n"
     ]
    },
    {
     "data": {
      "image/png": "[encoded data removed]",
      "text/plain": [
       "<Figure size 432x432 with 2 Axes>"
      ]
     },
     "metadata": {
      "needs_background": "light"
     },
     "output_type": "display_data"
    },
    {
     "name": "stdout",
     "output_type": "stream",
     "text": [
      "****************| Classifiction Report |****************\n",
      "                    precision    recall  f1-score   support\n",
      "\n",
      "            LAYING       1.00      1.00      1.00       430\n",
      "           SITTING       0.97      0.95      0.96       389\n",
      "          STANDING       0.96      0.98      0.97       401\n",
      "           WALKING       0.99      0.98      0.99       355\n",
      "WALKING_DOWNSTAIRS       0.98      0.98      0.98       315\n",
      "  WALKING_UPSTAIRS       0.98      0.99      0.99       316\n",
      "\n",
      "          accuracy                           0.98      2206\n",
      "         macro avg       0.98      0.98      0.98      2206\n",
      "      weighted avg       0.98      0.98      0.98      2206\n",
      "\n",
      "\n",
      "\n",
      "==> Best Estimator:\n",
      "\tRandomForestClassifier(max_depth=13, n_estimators=150)\n",
      "\n",
      "\n",
      "==> Best parameters:\n",
      "\tParameters of best estimator : {'max_depth': 13, 'n_estimators': 150}\n",
      "\n",
      "==> No. of CrossValidation sets:\n",
      "\tTotal numbre of cross validation sets: 5\n",
      "\n",
      "==> Best Score:\n",
      "\tAverage Cross Validate scores of best estimator : 0.9749329634766528\n"
     ]
    }
   ],
   "source": [
    "params = {'n_estimators': np.arange(10,201,20), 'max_depth':np.arange(3,15,2)}\n",
    "rfc = RandomForestClassifier()\n",
    "rfc_grid = GridSearchCV(rfc, param_grid=params, n_jobs=-1)\n",
    "rfc_grid_results = perform_model(rfc_grid, X_train, y_train, X_test, y_test, class_labels=labels)\n",
    "\n",
    "# observe the attributes of the model \n",
    "print_grid_search_attributes(rfc_grid_results['model'])"
   ]
  },
  {
   "cell_type": "markdown",
   "id": "2468ad2b",
   "metadata": {},
   "source": [
    "# Gradient Boosting - ensemble method"
   ]
  },
  {
   "cell_type": "code",
   "execution_count": 31,
   "id": "b6886cab",
   "metadata": {},
   "outputs": [
    {
     "name": "stdout",
     "output_type": "stream",
     "text": [
      "training the model..\n"
     ]
    },
    {
     "ename": "KeyboardInterrupt",
     "evalue": "",
     "output_type": "error",
     "traceback": [
      "\u001b[1;31m---------------------------------------------------------------------------\u001b[0m",
      "\u001b[1;31mKeyboardInterrupt\u001b[0m                         Traceback (most recent call last)",
      "\u001b[1;32m~\\AppData\\Local\\Temp/ipykernel_26096/1310868247.py\u001b[0m in \u001b[0;36m<module>\u001b[1;34m\u001b[0m\n\u001b[0;32m      2\u001b[0m \u001b[0mgbdt\u001b[0m \u001b[1;33m=\u001b[0m \u001b[0mGradientBoostingClassifier\u001b[0m\u001b[1;33m(\u001b[0m\u001b[1;33m)\u001b[0m\u001b[1;33m\u001b[0m\u001b[1;33m\u001b[0m\u001b[0m\n\u001b[0;32m      3\u001b[0m \u001b[0mgbdt_grid\u001b[0m \u001b[1;33m=\u001b[0m \u001b[0mGridSearchCV\u001b[0m\u001b[1;33m(\u001b[0m\u001b[0mgbdt\u001b[0m\u001b[1;33m,\u001b[0m \u001b[0mparam_grid\u001b[0m\u001b[1;33m=\u001b[0m\u001b[0mparam_grid\u001b[0m\u001b[1;33m,\u001b[0m \u001b[0mn_jobs\u001b[0m\u001b[1;33m=\u001b[0m\u001b[1;33m-\u001b[0m\u001b[1;36m1\u001b[0m\u001b[1;33m)\u001b[0m\u001b[1;33m\u001b[0m\u001b[1;33m\u001b[0m\u001b[0m\n\u001b[1;32m----> 4\u001b[1;33m \u001b[0mgbdt_grid_results\u001b[0m \u001b[1;33m=\u001b[0m \u001b[0mperform_model\u001b[0m\u001b[1;33m(\u001b[0m\u001b[0mgbdt_grid\u001b[0m\u001b[1;33m,\u001b[0m \u001b[0mX_train\u001b[0m\u001b[1;33m,\u001b[0m \u001b[0my_train\u001b[0m\u001b[1;33m,\u001b[0m \u001b[0mX_test\u001b[0m\u001b[1;33m,\u001b[0m \u001b[0my_test\u001b[0m\u001b[1;33m,\u001b[0m \u001b[0mclass_labels\u001b[0m\u001b[1;33m=\u001b[0m\u001b[0mlabels\u001b[0m\u001b[1;33m)\u001b[0m\u001b[1;33m\u001b[0m\u001b[1;33m\u001b[0m\u001b[0m\n\u001b[0m\u001b[0;32m      5\u001b[0m \u001b[1;33m\u001b[0m\u001b[0m\n\u001b[0;32m      6\u001b[0m \u001b[1;31m# observe the attributes of the model\u001b[0m\u001b[1;33m\u001b[0m\u001b[1;33m\u001b[0m\u001b[0m\n",
      "\u001b[1;32m~\\AppData\\Local\\Temp/ipykernel_26096/3989464675.py\u001b[0m in \u001b[0;36mperform_model\u001b[1;34m(model, X_train, y_train, X_test, y_test, class_labels, cm_normalize, print_cm, cm_cmap)\u001b[0m\n\u001b[0;32m     10\u001b[0m     \u001b[0mtrain_start_time\u001b[0m \u001b[1;33m=\u001b[0m \u001b[0mdatetime\u001b[0m\u001b[1;33m.\u001b[0m\u001b[0mnow\u001b[0m\u001b[1;33m(\u001b[0m\u001b[1;33m)\u001b[0m\u001b[1;33m\u001b[0m\u001b[1;33m\u001b[0m\u001b[0m\n\u001b[0;32m     11\u001b[0m     \u001b[0mprint\u001b[0m\u001b[1;33m(\u001b[0m\u001b[1;34m'training the model..'\u001b[0m\u001b[1;33m)\u001b[0m\u001b[1;33m\u001b[0m\u001b[1;33m\u001b[0m\u001b[0m\n\u001b[1;32m---> 12\u001b[1;33m     \u001b[0mmodel\u001b[0m\u001b[1;33m.\u001b[0m\u001b[0mfit\u001b[0m\u001b[1;33m(\u001b[0m\u001b[0mX_train\u001b[0m\u001b[1;33m,\u001b[0m \u001b[0my_train\u001b[0m\u001b[1;33m)\u001b[0m\u001b[1;33m\u001b[0m\u001b[1;33m\u001b[0m\u001b[0m\n\u001b[0m\u001b[0;32m     13\u001b[0m     \u001b[0mprint\u001b[0m\u001b[1;33m(\u001b[0m\u001b[1;34m'Done....!\\n'\u001b[0m\u001b[1;33m)\u001b[0m\u001b[1;33m\u001b[0m\u001b[1;33m\u001b[0m\u001b[0m\n\u001b[0;32m     14\u001b[0m     \u001b[0mtrain_end_time\u001b[0m \u001b[1;33m=\u001b[0m \u001b[0mdatetime\u001b[0m\u001b[1;33m.\u001b[0m\u001b[0mnow\u001b[0m\u001b[1;33m(\u001b[0m\u001b[1;33m)\u001b[0m\u001b[1;33m\u001b[0m\u001b[1;33m\u001b[0m\u001b[0m\n",
      "\u001b[1;32m~\\anaconda3\\lib\\site-packages\\sklearn\\utils\\validation.py\u001b[0m in \u001b[0;36minner_f\u001b[1;34m(*args, **kwargs)\u001b[0m\n\u001b[0;32m     61\u001b[0m             \u001b[0mextra_args\u001b[0m \u001b[1;33m=\u001b[0m \u001b[0mlen\u001b[0m\u001b[1;33m(\u001b[0m\u001b[0margs\u001b[0m\u001b[1;33m)\u001b[0m \u001b[1;33m-\u001b[0m \u001b[0mlen\u001b[0m\u001b[1;33m(\u001b[0m\u001b[0mall_args\u001b[0m\u001b[1;33m)\u001b[0m\u001b[1;33m\u001b[0m\u001b[1;33m\u001b[0m\u001b[0m\n\u001b[0;32m     62\u001b[0m             \u001b[1;32mif\u001b[0m \u001b[0mextra_args\u001b[0m \u001b[1;33m<=\u001b[0m \u001b[1;36m0\u001b[0m\u001b[1;33m:\u001b[0m\u001b[1;33m\u001b[0m\u001b[1;33m\u001b[0m\u001b[0m\n\u001b[1;32m---> 63\u001b[1;33m                 \u001b[1;32mreturn\u001b[0m \u001b[0mf\u001b[0m\u001b[1;33m(\u001b[0m\u001b[1;33m*\u001b[0m\u001b[0margs\u001b[0m\u001b[1;33m,\u001b[0m \u001b[1;33m**\u001b[0m\u001b[0mkwargs\u001b[0m\u001b[1;33m)\u001b[0m\u001b[1;33m\u001b[0m\u001b[1;33m\u001b[0m\u001b[0m\n\u001b[0m\u001b[0;32m     64\u001b[0m \u001b[1;33m\u001b[0m\u001b[0m\n\u001b[0;32m     65\u001b[0m             \u001b[1;31m# extra_args > 0\u001b[0m\u001b[1;33m\u001b[0m\u001b[1;33m\u001b[0m\u001b[0m\n",
      "\u001b[1;32m~\\anaconda3\\lib\\site-packages\\sklearn\\model_selection\\_search.py\u001b[0m in \u001b[0;36mfit\u001b[1;34m(self, X, y, groups, **fit_params)\u001b[0m\n\u001b[0;32m    839\u001b[0m                 \u001b[1;32mreturn\u001b[0m \u001b[0mresults\u001b[0m\u001b[1;33m\u001b[0m\u001b[1;33m\u001b[0m\u001b[0m\n\u001b[0;32m    840\u001b[0m \u001b[1;33m\u001b[0m\u001b[0m\n\u001b[1;32m--> 841\u001b[1;33m             \u001b[0mself\u001b[0m\u001b[1;33m.\u001b[0m\u001b[0m_run_search\u001b[0m\u001b[1;33m(\u001b[0m\u001b[0mevaluate_candidates\u001b[0m\u001b[1;33m)\u001b[0m\u001b[1;33m\u001b[0m\u001b[1;33m\u001b[0m\u001b[0m\n\u001b[0m\u001b[0;32m    842\u001b[0m \u001b[1;33m\u001b[0m\u001b[0m\n\u001b[0;32m    843\u001b[0m             \u001b[1;31m# multimetric is determined here because in the case of a callable\u001b[0m\u001b[1;33m\u001b[0m\u001b[1;33m\u001b[0m\u001b[0m\n",
      "\u001b[1;32m~\\anaconda3\\lib\\site-packages\\sklearn\\model_selection\\_search.py\u001b[0m in \u001b[0;36m_run_search\u001b[1;34m(self, evaluate_candidates)\u001b[0m\n\u001b[0;32m   1294\u001b[0m     \u001b[1;32mdef\u001b[0m \u001b[0m_run_search\u001b[0m\u001b[1;33m(\u001b[0m\u001b[0mself\u001b[0m\u001b[1;33m,\u001b[0m \u001b[0mevaluate_candidates\u001b[0m\u001b[1;33m)\u001b[0m\u001b[1;33m:\u001b[0m\u001b[1;33m\u001b[0m\u001b[1;33m\u001b[0m\u001b[0m\n\u001b[0;32m   1295\u001b[0m         \u001b[1;34m\"\"\"Search all candidates in param_grid\"\"\"\u001b[0m\u001b[1;33m\u001b[0m\u001b[1;33m\u001b[0m\u001b[0m\n\u001b[1;32m-> 1296\u001b[1;33m         \u001b[0mevaluate_candidates\u001b[0m\u001b[1;33m(\u001b[0m\u001b[0mParameterGrid\u001b[0m\u001b[1;33m(\u001b[0m\u001b[0mself\u001b[0m\u001b[1;33m.\u001b[0m\u001b[0mparam_grid\u001b[0m\u001b[1;33m)\u001b[0m\u001b[1;33m)\u001b[0m\u001b[1;33m\u001b[0m\u001b[1;33m\u001b[0m\u001b[0m\n\u001b[0m\u001b[0;32m   1297\u001b[0m \u001b[1;33m\u001b[0m\u001b[0m\n\u001b[0;32m   1298\u001b[0m \u001b[1;33m\u001b[0m\u001b[0m\n",
      "\u001b[1;32m~\\anaconda3\\lib\\site-packages\\sklearn\\model_selection\\_search.py\u001b[0m in \u001b[0;36mevaluate_candidates\u001b[1;34m(candidate_params, cv, more_results)\u001b[0m\n\u001b[0;32m    793\u001b[0m                               n_splits, n_candidates, n_candidates * n_splits))\n\u001b[0;32m    794\u001b[0m \u001b[1;33m\u001b[0m\u001b[0m\n\u001b[1;32m--> 795\u001b[1;33m                 out = parallel(delayed(_fit_and_score)(clone(base_estimator),\n\u001b[0m\u001b[0;32m    796\u001b[0m                                                        \u001b[0mX\u001b[0m\u001b[1;33m,\u001b[0m \u001b[0my\u001b[0m\u001b[1;33m,\u001b[0m\u001b[1;33m\u001b[0m\u001b[1;33m\u001b[0m\u001b[0m\n\u001b[0;32m    797\u001b[0m                                                        \u001b[0mtrain\u001b[0m\u001b[1;33m=\u001b[0m\u001b[0mtrain\u001b[0m\u001b[1;33m,\u001b[0m \u001b[0mtest\u001b[0m\u001b[1;33m=\u001b[0m\u001b[0mtest\u001b[0m\u001b[1;33m,\u001b[0m\u001b[1;33m\u001b[0m\u001b[1;33m\u001b[0m\u001b[0m\n",
      "\u001b[1;32m~\\anaconda3\\lib\\site-packages\\joblib\\parallel.py\u001b[0m in \u001b[0;36m__call__\u001b[1;34m(self, iterable)\u001b[0m\n\u001b[0;32m   1054\u001b[0m \u001b[1;33m\u001b[0m\u001b[0m\n\u001b[0;32m   1055\u001b[0m             \u001b[1;32mwith\u001b[0m \u001b[0mself\u001b[0m\u001b[1;33m.\u001b[0m\u001b[0m_backend\u001b[0m\u001b[1;33m.\u001b[0m\u001b[0mretrieval_context\u001b[0m\u001b[1;33m(\u001b[0m\u001b[1;33m)\u001b[0m\u001b[1;33m:\u001b[0m\u001b[1;33m\u001b[0m\u001b[1;33m\u001b[0m\u001b[0m\n\u001b[1;32m-> 1056\u001b[1;33m                 \u001b[0mself\u001b[0m\u001b[1;33m.\u001b[0m\u001b[0mretrieve\u001b[0m\u001b[1;33m(\u001b[0m\u001b[1;33m)\u001b[0m\u001b[1;33m\u001b[0m\u001b[1;33m\u001b[0m\u001b[0m\n\u001b[0m\u001b[0;32m   1057\u001b[0m             \u001b[1;31m# Make sure that we get a last message telling us we are done\u001b[0m\u001b[1;33m\u001b[0m\u001b[1;33m\u001b[0m\u001b[0m\n\u001b[0;32m   1058\u001b[0m             \u001b[0melapsed_time\u001b[0m \u001b[1;33m=\u001b[0m \u001b[0mtime\u001b[0m\u001b[1;33m.\u001b[0m\u001b[0mtime\u001b[0m\u001b[1;33m(\u001b[0m\u001b[1;33m)\u001b[0m \u001b[1;33m-\u001b[0m \u001b[0mself\u001b[0m\u001b[1;33m.\u001b[0m\u001b[0m_start_time\u001b[0m\u001b[1;33m\u001b[0m\u001b[1;33m\u001b[0m\u001b[0m\n",
      "\u001b[1;32m~\\anaconda3\\lib\\site-packages\\joblib\\parallel.py\u001b[0m in \u001b[0;36mretrieve\u001b[1;34m(self)\u001b[0m\n\u001b[0;32m    933\u001b[0m             \u001b[1;32mtry\u001b[0m\u001b[1;33m:\u001b[0m\u001b[1;33m\u001b[0m\u001b[1;33m\u001b[0m\u001b[0m\n\u001b[0;32m    934\u001b[0m                 \u001b[1;32mif\u001b[0m \u001b[0mgetattr\u001b[0m\u001b[1;33m(\u001b[0m\u001b[0mself\u001b[0m\u001b[1;33m.\u001b[0m\u001b[0m_backend\u001b[0m\u001b[1;33m,\u001b[0m \u001b[1;34m'supports_timeout'\u001b[0m\u001b[1;33m,\u001b[0m \u001b[1;32mFalse\u001b[0m\u001b[1;33m)\u001b[0m\u001b[1;33m:\u001b[0m\u001b[1;33m\u001b[0m\u001b[1;33m\u001b[0m\u001b[0m\n\u001b[1;32m--> 935\u001b[1;33m                     \u001b[0mself\u001b[0m\u001b[1;33m.\u001b[0m\u001b[0m_output\u001b[0m\u001b[1;33m.\u001b[0m\u001b[0mextend\u001b[0m\u001b[1;33m(\u001b[0m\u001b[0mjob\u001b[0m\u001b[1;33m.\u001b[0m\u001b[0mget\u001b[0m\u001b[1;33m(\u001b[0m\u001b[0mtimeout\u001b[0m\u001b[1;33m=\u001b[0m\u001b[0mself\u001b[0m\u001b[1;33m.\u001b[0m\u001b[0mtimeout\u001b[0m\u001b[1;33m)\u001b[0m\u001b[1;33m)\u001b[0m\u001b[1;33m\u001b[0m\u001b[1;33m\u001b[0m\u001b[0m\n\u001b[0m\u001b[0;32m    936\u001b[0m                 \u001b[1;32melse\u001b[0m\u001b[1;33m:\u001b[0m\u001b[1;33m\u001b[0m\u001b[1;33m\u001b[0m\u001b[0m\n\u001b[0;32m    937\u001b[0m                     \u001b[0mself\u001b[0m\u001b[1;33m.\u001b[0m\u001b[0m_output\u001b[0m\u001b[1;33m.\u001b[0m\u001b[0mextend\u001b[0m\u001b[1;33m(\u001b[0m\u001b[0mjob\u001b[0m\u001b[1;33m.\u001b[0m\u001b[0mget\u001b[0m\u001b[1;33m(\u001b[0m\u001b[1;33m)\u001b[0m\u001b[1;33m)\u001b[0m\u001b[1;33m\u001b[0m\u001b[1;33m\u001b[0m\u001b[0m\n",
      "\u001b[1;32m~\\anaconda3\\lib\\site-packages\\joblib\\_parallel_backends.py\u001b[0m in \u001b[0;36mwrap_future_result\u001b[1;34m(future, timeout)\u001b[0m\n\u001b[0;32m    540\u001b[0m         AsyncResults.get from multiprocessing.\"\"\"\n\u001b[0;32m    541\u001b[0m         \u001b[1;32mtry\u001b[0m\u001b[1;33m:\u001b[0m\u001b[1;33m\u001b[0m\u001b[1;33m\u001b[0m\u001b[0m\n\u001b[1;32m--> 542\u001b[1;33m             \u001b[1;32mreturn\u001b[0m \u001b[0mfuture\u001b[0m\u001b[1;33m.\u001b[0m\u001b[0mresult\u001b[0m\u001b[1;33m(\u001b[0m\u001b[0mtimeout\u001b[0m\u001b[1;33m=\u001b[0m\u001b[0mtimeout\u001b[0m\u001b[1;33m)\u001b[0m\u001b[1;33m\u001b[0m\u001b[1;33m\u001b[0m\u001b[0m\n\u001b[0m\u001b[0;32m    543\u001b[0m         \u001b[1;32mexcept\u001b[0m \u001b[0mCfTimeoutError\u001b[0m \u001b[1;32mas\u001b[0m \u001b[0me\u001b[0m\u001b[1;33m:\u001b[0m\u001b[1;33m\u001b[0m\u001b[1;33m\u001b[0m\u001b[0m\n\u001b[0;32m    544\u001b[0m             \u001b[1;32mraise\u001b[0m \u001b[0mTimeoutError\u001b[0m \u001b[1;32mfrom\u001b[0m \u001b[0me\u001b[0m\u001b[1;33m\u001b[0m\u001b[1;33m\u001b[0m\u001b[0m\n",
      "\u001b[1;32m~\\anaconda3\\lib\\concurrent\\futures\\_base.py\u001b[0m in \u001b[0;36mresult\u001b[1;34m(self, timeout)\u001b[0m\n\u001b[0;32m    438\u001b[0m                     \u001b[1;32mreturn\u001b[0m \u001b[0mself\u001b[0m\u001b[1;33m.\u001b[0m\u001b[0m__get_result\u001b[0m\u001b[1;33m(\u001b[0m\u001b[1;33m)\u001b[0m\u001b[1;33m\u001b[0m\u001b[1;33m\u001b[0m\u001b[0m\n\u001b[0;32m    439\u001b[0m \u001b[1;33m\u001b[0m\u001b[0m\n\u001b[1;32m--> 440\u001b[1;33m                 \u001b[0mself\u001b[0m\u001b[1;33m.\u001b[0m\u001b[0m_condition\u001b[0m\u001b[1;33m.\u001b[0m\u001b[0mwait\u001b[0m\u001b[1;33m(\u001b[0m\u001b[0mtimeout\u001b[0m\u001b[1;33m)\u001b[0m\u001b[1;33m\u001b[0m\u001b[1;33m\u001b[0m\u001b[0m\n\u001b[0m\u001b[0;32m    441\u001b[0m \u001b[1;33m\u001b[0m\u001b[0m\n\u001b[0;32m    442\u001b[0m                 \u001b[1;32mif\u001b[0m \u001b[0mself\u001b[0m\u001b[1;33m.\u001b[0m\u001b[0m_state\u001b[0m \u001b[1;32min\u001b[0m \u001b[1;33m[\u001b[0m\u001b[0mCANCELLED\u001b[0m\u001b[1;33m,\u001b[0m \u001b[0mCANCELLED_AND_NOTIFIED\u001b[0m\u001b[1;33m]\u001b[0m\u001b[1;33m:\u001b[0m\u001b[1;33m\u001b[0m\u001b[1;33m\u001b[0m\u001b[0m\n",
      "\u001b[1;32m~\\anaconda3\\lib\\threading.py\u001b[0m in \u001b[0;36mwait\u001b[1;34m(self, timeout)\u001b[0m\n\u001b[0;32m    310\u001b[0m         \u001b[1;32mtry\u001b[0m\u001b[1;33m:\u001b[0m    \u001b[1;31m# restore state no matter what (e.g., KeyboardInterrupt)\u001b[0m\u001b[1;33m\u001b[0m\u001b[1;33m\u001b[0m\u001b[0m\n\u001b[0;32m    311\u001b[0m             \u001b[1;32mif\u001b[0m \u001b[0mtimeout\u001b[0m \u001b[1;32mis\u001b[0m \u001b[1;32mNone\u001b[0m\u001b[1;33m:\u001b[0m\u001b[1;33m\u001b[0m\u001b[1;33m\u001b[0m\u001b[0m\n\u001b[1;32m--> 312\u001b[1;33m                 \u001b[0mwaiter\u001b[0m\u001b[1;33m.\u001b[0m\u001b[0macquire\u001b[0m\u001b[1;33m(\u001b[0m\u001b[1;33m)\u001b[0m\u001b[1;33m\u001b[0m\u001b[1;33m\u001b[0m\u001b[0m\n\u001b[0m\u001b[0;32m    313\u001b[0m                 \u001b[0mgotit\u001b[0m \u001b[1;33m=\u001b[0m \u001b[1;32mTrue\u001b[0m\u001b[1;33m\u001b[0m\u001b[1;33m\u001b[0m\u001b[0m\n\u001b[0;32m    314\u001b[0m             \u001b[1;32melse\u001b[0m\u001b[1;33m:\u001b[0m\u001b[1;33m\u001b[0m\u001b[1;33m\u001b[0m\u001b[0m\n",
      "\u001b[1;31mKeyboardInterrupt\u001b[0m: "
     ]
    }
   ],
   "source": [
    "param_grid = {'max_depth': np.arange(5),'n_estimators':np.arange(140)}\n",
    "gbdt = GradientBoostingClassifier()\n",
    "gbdt_grid = GridSearchCV(gbdt, param_grid=param_grid, n_jobs=-1)\n",
    "gbdt_grid_results = perform_model(gbdt_grid, X_train, y_train, X_test, y_test, class_labels=labels)\n",
    "\n",
    "# observe the attributes of the model \n",
    "print_grid_search_attributes(gbdt_grid_results['model'])"
   ]
  },
  {
   "cell_type": "markdown",
   "id": "c04880a2",
   "metadata": {},
   "source": [
    "# Comparing Models"
   ]
  },
  {
   "cell_type": "code",
   "execution_count": 32,
   "id": "5de5d5e6",
   "metadata": {},
   "outputs": [
    {
     "name": "stdout",
     "output_type": "stream",
     "text": [
      "\n",
      "                     Accuracy     Error\n",
      "                     ----------   --------\n",
      "Logistic Regression : 98.41%       1.587%\n",
      "Linear SVC          : 98.73%       1.269% \n",
      "rbf SVM classifier  : 99.32%      0.68% \n",
      "DecisionTree        : 93.56%      6.437% \n",
      "Random Forest       : 98.1%      1.904% \n"
     ]
    }
   ],
   "source": [
    "print('\\n                     Accuracy     Error')\n",
    "print('                     ----------   --------')\n",
    "print('Logistic Regression : {:.04}%       {:.04}%'.format(log_reg_grid_results['accuracy'] * 100,\\\n",
    "                                                  100-(log_reg_grid_results['accuracy'] * 100)))\n",
    "\n",
    "print('Linear SVC          : {:.04}%       {:.04}% '.format(lr_svc_grid_results['accuracy'] * 100,\\\n",
    "                                                        100-(lr_svc_grid_results['accuracy'] * 100)))\n",
    "\n",
    "print('rbf SVM classifier  : {:.04}%      {:.04}% '.format(rbf_svm_grid_results['accuracy'] * 100,\\\n",
    "                                                          100-(rbf_svm_grid_results['accuracy'] * 100)))\n",
    "\n",
    "print('DecisionTree        : {:.04}%      {:.04}% '.format(dt_grid_results['accuracy'] * 100,\\\n",
    "                                                        100-(dt_grid_results['accuracy'] * 100)))\n",
    "\n",
    "print('Random Forest       : {:.04}%      {:.04}% '.format(rfc_grid_results['accuracy'] * 100,\\\n",
    "                                                           100-(rfc_grid_results['accuracy'] * 100)))\n",
    "#print('Gradient Boosting   : {:.04}%      {:.04}% '.format(gbdt_grid_results['accuracy'] * 100,\\\n",
    "     #                                                      100-(gbdt_grid_results['accuracy'] * 100)))"
   ]
  },
  {
   "cell_type": "markdown",
   "id": "3b3704f0",
   "metadata": {},
   "source": [
    "All of the models performed very well, rbf svc outranked the other models with 99.32% accuracy \n",
    "\n",
    "I will try implimenting the algorithms with python from scratch and try comparing the results- only to check my understanding over the algorithms.\n",
    "\n",
    "Gradient Boosting is taking time to complete the task with gridsearchcv, so i interrupted the kernal\n",
    "\n",
    "I know accuracy isnt the right measure for some cases in classification, i will update the ipynb with ROC curves soon!"
   ]
  },
  {
   "cell_type": "code",
   "execution_count": null,
   "id": "de63c3ed",
   "metadata": {},
   "outputs": [],
   "source": []
  }
 ],
 "metadata": {
  "kernelspec": {
   "display_name": "Python 3 (ipykernel)",
   "language": "python",
   "name": "python3"
  },
  "language_info": {
   "codemirror_mode": {
    "name": "ipython",
    "version": 3
   },
   "file_extension": ".py",
   "mimetype": "text/x-python",
   "name": "python",
   "nbconvert_exporter": "python",
   "pygments_lexer": "ipython3",
   "version": "3.9.7"
  }
 },
 "nbformat": 4,
 "nbformat_minor": 5
}
